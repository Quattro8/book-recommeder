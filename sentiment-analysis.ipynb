{
 "cells": [
  {
   "metadata": {
    "ExecuteTime": {
     "end_time": "2025-03-26T09:35:53.340138Z",
     "start_time": "2025-03-26T09:35:53.037435Z"
    }
   },
   "cell_type": "code",
   "source": [
    "import pandas as pd\n",
    "from keras.src.backend.jax.math import top_k\n",
    "\n",
    "books = pd.read_csv('books_with_categories.csv')"
   ],
   "id": "6aa7fe9c9fceb5f",
   "outputs": [],
   "execution_count": 1
  },
  {
   "metadata": {
    "ExecuteTime": {
     "end_time": "2025-03-26T09:44:18.950565Z",
     "start_time": "2025-03-26T09:44:18.403041Z"
    }
   },
   "cell_type": "code",
   "source": [
    "from transformers import pipeline\n",
    "\n",
    "classifier = pipeline(\"text-classification\",\n",
    "                      model=\"j-hartmann/emotion-english-distilroberta-base\",\n",
    "                      top_k=None,\n",
    "                      device='mps')\n",
    "classifier(\"I love this\")"
   ],
   "id": "b1971f638de9431e",
   "outputs": [
    {
     "name": "stderr",
     "output_type": "stream",
     "text": [
      "Device set to use mps\n"
     ]
    },
    {
     "data": {
      "text/plain": [
       "[[{'label': 'joy', 'score': 0.9845667481422424},\n",
       "  {'label': 'surprise', 'score': 0.004927210509777069},\n",
       "  {'label': 'sadness', 'score': 0.004531432408839464},\n",
       "  {'label': 'neutral', 'score': 0.0034753207582980394},\n",
       "  {'label': 'anger', 'score': 0.0013875329168513417},\n",
       "  {'label': 'disgust', 'score': 0.0007134057814255357},\n",
       "  {'label': 'fear', 'score': 0.0003984913637395948}]]"
      ]
     },
     "execution_count": 4,
     "metadata": {},
     "output_type": "execute_result"
    }
   ],
   "execution_count": 4
  },
  {
   "metadata": {
    "ExecuteTime": {
     "end_time": "2025-03-26T09:44:53.418034Z",
     "start_time": "2025-03-26T09:44:53.415419Z"
    }
   },
   "cell_type": "code",
   "source": "books['description'][0]",
   "id": "548f585fe8e860ba",
   "outputs": [
    {
     "data": {
      "text/plain": [
       "'A NOVEL THAT READERS and critics have been eagerly anticipating for over a decade, Gilead is an astonishingly imagined story of remarkable lives. John Ames is a preacher, the son of a preacher and the grandson (both maternal and paternal) of preachers. It’s 1956 in Gilead, Iowa, towards the end of the Reverend Ames’s life, and he is absorbed in recording his family’s story, a legacy for the young son he will never see grow up. Haunted by his grandfather’s presence, John tells of the rift between his grandfather and his father: the elder, an angry visionary who fought for the abolitionist cause, and his son, an ardent pacifist. He is troubled, too, by his prodigal namesake, Jack (John Ames) Boughton, his best friend’s lost son who returns to Gilead searching for forgiveness and redemption. Told in John Ames’s joyous, rambling voice that finds beauty, humour and truth in the smallest of life’s details, Gilead is a song of celebration and acceptance of the best and the worst the world has to offer. At its heart is a tale of the sacred bonds between fathers and sons, pitch-perfect in style and story, set to dazzle critics and readers alike.'"
      ]
     },
     "execution_count": 5,
     "metadata": {},
     "output_type": "execute_result"
    }
   ],
   "execution_count": 5
  },
  {
   "metadata": {
    "ExecuteTime": {
     "end_time": "2025-03-26T09:45:58.043407Z",
     "start_time": "2025-03-26T09:45:57.739434Z"
    }
   },
   "cell_type": "code",
   "source": "classifier(books['description'][0])",
   "id": "d57177939af2a111",
   "outputs": [
    {
     "data": {
      "text/plain": [
       "[[{'label': 'fear', 'score': 0.6548417210578918},\n",
       "  {'label': 'neutral', 'score': 0.16985179483890533},\n",
       "  {'label': 'sadness', 'score': 0.11640871316194534},\n",
       "  {'label': 'surprise', 'score': 0.020700624212622643},\n",
       "  {'label': 'disgust', 'score': 0.0191007349640131},\n",
       "  {'label': 'joy', 'score': 0.015161242336034775},\n",
       "  {'label': 'anger', 'score': 0.003935153130441904}]]"
      ]
     },
     "execution_count": 6,
     "metadata": {},
     "output_type": "execute_result"
    }
   ],
   "execution_count": 6
  },
  {
   "metadata": {
    "ExecuteTime": {
     "end_time": "2025-03-26T09:46:55.239292Z",
     "start_time": "2025-03-26T09:46:53.453677Z"
    }
   },
   "cell_type": "code",
   "source": "classifier(books['description'][0].split(\".\"))",
   "id": "ba8c9d4b844f90b2",
   "outputs": [
    {
     "data": {
      "text/plain": [
       "[[{'label': 'surprise', 'score': 0.7296021580696106},\n",
       "  {'label': 'neutral', 'score': 0.14038625359535217},\n",
       "  {'label': 'fear', 'score': 0.06816215068101883},\n",
       "  {'label': 'joy', 'score': 0.0479423962533474},\n",
       "  {'label': 'anger', 'score': 0.009156353771686554},\n",
       "  {'label': 'disgust', 'score': 0.0026284793857485056},\n",
       "  {'label': 'sadness', 'score': 0.0021221640054136515}],\n",
       " [{'label': 'neutral', 'score': 0.44937190413475037},\n",
       "  {'label': 'disgust', 'score': 0.2735902965068817},\n",
       "  {'label': 'joy', 'score': 0.1090828999876976},\n",
       "  {'label': 'sadness', 'score': 0.09362740814685822},\n",
       "  {'label': 'anger', 'score': 0.04047819972038269},\n",
       "  {'label': 'surprise', 'score': 0.02697022259235382},\n",
       "  {'label': 'fear', 'score': 0.00687906239181757}],\n",
       " [{'label': 'neutral', 'score': 0.6462160348892212},\n",
       "  {'label': 'sadness', 'score': 0.24273332953453064},\n",
       "  {'label': 'disgust', 'score': 0.04342269152402878},\n",
       "  {'label': 'surprise', 'score': 0.028300514444708824},\n",
       "  {'label': 'joy', 'score': 0.014211446046829224},\n",
       "  {'label': 'fear', 'score': 0.014084098860621452},\n",
       "  {'label': 'anger', 'score': 0.011031887494027615}],\n",
       " [{'label': 'fear', 'score': 0.9281686544418335},\n",
       "  {'label': 'anger', 'score': 0.032190579921007156},\n",
       "  {'label': 'neutral', 'score': 0.012808628380298615},\n",
       "  {'label': 'sadness', 'score': 0.008756840601563454},\n",
       "  {'label': 'surprise', 'score': 0.008597875013947487},\n",
       "  {'label': 'disgust', 'score': 0.00843177828937769},\n",
       "  {'label': 'joy', 'score': 0.0010455782758072019}],\n",
       " [{'label': 'sadness', 'score': 0.9671575427055359},\n",
       "  {'label': 'neutral', 'score': 0.015104164369404316},\n",
       "  {'label': 'disgust', 'score': 0.006480589509010315},\n",
       "  {'label': 'fear', 'score': 0.005393995437771082},\n",
       "  {'label': 'surprise', 'score': 0.0022869419772177935},\n",
       "  {'label': 'anger', 'score': 0.0018428867915645242},\n",
       "  {'label': 'joy', 'score': 0.0017338780453428626}],\n",
       " [{'label': 'joy', 'score': 0.9327980279922485},\n",
       "  {'label': 'disgust', 'score': 0.0377170667052269},\n",
       "  {'label': 'neutral', 'score': 0.015891848132014275},\n",
       "  {'label': 'sadness', 'score': 0.006444496568292379},\n",
       "  {'label': 'anger', 'score': 0.005024965386837721},\n",
       "  {'label': 'surprise', 'score': 0.001581206452101469},\n",
       "  {'label': 'fear', 'score': 0.0005423066904768348}],\n",
       " [{'label': 'joy', 'score': 0.6528695225715637},\n",
       "  {'label': 'neutral', 'score': 0.25427553057670593},\n",
       "  {'label': 'surprise', 'score': 0.06808329373598099},\n",
       "  {'label': 'sadness', 'score': 0.009909017942845821},\n",
       "  {'label': 'disgust', 'score': 0.006512219086289406},\n",
       "  {'label': 'anger', 'score': 0.0048213223926723},\n",
       "  {'label': 'fear', 'score': 0.0035290238447487354}],\n",
       " [{'label': 'neutral', 'score': 0.5494773387908936},\n",
       "  {'label': 'sadness', 'score': 0.11169011145830154},\n",
       "  {'label': 'disgust', 'score': 0.1040065661072731},\n",
       "  {'label': 'surprise', 'score': 0.07876542955636978},\n",
       "  {'label': 'anger', 'score': 0.06413352489471436},\n",
       "  {'label': 'fear', 'score': 0.05136272683739662},\n",
       "  {'label': 'joy', 'score': 0.040564339607954025}]]"
      ]
     },
     "execution_count": 7,
     "metadata": {},
     "output_type": "execute_result"
    }
   ],
   "execution_count": 7
  },
  {
   "metadata": {
    "ExecuteTime": {
     "end_time": "2025-03-26T09:47:54.490152Z",
     "start_time": "2025-03-26T09:47:54.397300Z"
    }
   },
   "cell_type": "code",
   "source": [
    "sentense = books['description'][0].split(\".\")\n",
    "predictions = classifier(sentense)"
   ],
   "id": "ab10a347c4ab61dd",
   "outputs": [],
   "execution_count": 8
  },
  {
   "metadata": {
    "ExecuteTime": {
     "end_time": "2025-03-26T09:48:05.529988Z",
     "start_time": "2025-03-26T09:48:05.527354Z"
    }
   },
   "cell_type": "code",
   "source": "sentense[0]",
   "id": "af3e8fd0a88afd64",
   "outputs": [
    {
     "data": {
      "text/plain": [
       "'A NOVEL THAT READERS and critics have been eagerly anticipating for over a decade, Gilead is an astonishingly imagined story of remarkable lives'"
      ]
     },
     "execution_count": 9,
     "metadata": {},
     "output_type": "execute_result"
    }
   ],
   "execution_count": 9
  },
  {
   "metadata": {
    "ExecuteTime": {
     "end_time": "2025-03-26T09:48:12.097159Z",
     "start_time": "2025-03-26T09:48:12.094237Z"
    }
   },
   "cell_type": "code",
   "source": "predictions[0]",
   "id": "d02f2dd24dcee7f1",
   "outputs": [
    {
     "data": {
      "text/plain": [
       "[{'label': 'surprise', 'score': 0.7296021580696106},\n",
       " {'label': 'neutral', 'score': 0.14038625359535217},\n",
       " {'label': 'fear', 'score': 0.06816215068101883},\n",
       " {'label': 'joy', 'score': 0.0479423962533474},\n",
       " {'label': 'anger', 'score': 0.009156353771686554},\n",
       " {'label': 'disgust', 'score': 0.0026284793857485056},\n",
       " {'label': 'sadness', 'score': 0.0021221640054136515}]"
      ]
     },
     "execution_count": 10,
     "metadata": {},
     "output_type": "execute_result"
    }
   ],
   "execution_count": 10
  },
  {
   "metadata": {
    "ExecuteTime": {
     "end_time": "2025-03-26T09:48:24.251774Z",
     "start_time": "2025-03-26T09:48:24.249189Z"
    }
   },
   "cell_type": "code",
   "source": "sentense[1]",
   "id": "ac33f425b40b574b",
   "outputs": [
    {
     "data": {
      "text/plain": [
       "' John Ames is a preacher, the son of a preacher and the grandson (both maternal and paternal) of preachers'"
      ]
     },
     "execution_count": 11,
     "metadata": {},
     "output_type": "execute_result"
    }
   ],
   "execution_count": 11
  },
  {
   "metadata": {
    "ExecuteTime": {
     "end_time": "2025-03-26T09:48:28.404344Z",
     "start_time": "2025-03-26T09:48:28.401948Z"
    }
   },
   "cell_type": "code",
   "source": "predictions[1]",
   "id": "7d6383e72ce20cfe",
   "outputs": [
    {
     "data": {
      "text/plain": [
       "[{'label': 'neutral', 'score': 0.44937190413475037},\n",
       " {'label': 'disgust', 'score': 0.2735902965068817},\n",
       " {'label': 'joy', 'score': 0.1090828999876976},\n",
       " {'label': 'sadness', 'score': 0.09362740814685822},\n",
       " {'label': 'anger', 'score': 0.04047819972038269},\n",
       " {'label': 'surprise', 'score': 0.02697022259235382},\n",
       " {'label': 'fear', 'score': 0.00687906239181757}]"
      ]
     },
     "execution_count": 12,
     "metadata": {},
     "output_type": "execute_result"
    }
   ],
   "execution_count": 12
  },
  {
   "metadata": {
    "ExecuteTime": {
     "end_time": "2025-03-26T09:48:35.864105Z",
     "start_time": "2025-03-26T09:48:35.861229Z"
    }
   },
   "cell_type": "code",
   "source": "sentense[3]",
   "id": "c9f56bc5b40b0482",
   "outputs": [
    {
     "data": {
      "text/plain": [
       "' Haunted by his grandfather’s presence, John tells of the rift between his grandfather and his father: the elder, an angry visionary who fought for the abolitionist cause, and his son, an ardent pacifist'"
      ]
     },
     "execution_count": 13,
     "metadata": {},
     "output_type": "execute_result"
    }
   ],
   "execution_count": 13
  },
  {
   "metadata": {
    "ExecuteTime": {
     "end_time": "2025-03-26T09:48:40.477238Z",
     "start_time": "2025-03-26T09:48:40.474402Z"
    }
   },
   "cell_type": "code",
   "source": "predictions[3]",
   "id": "dc9ff7f204876fae",
   "outputs": [
    {
     "data": {
      "text/plain": [
       "[{'label': 'fear', 'score': 0.9281686544418335},\n",
       " {'label': 'anger', 'score': 0.032190579921007156},\n",
       " {'label': 'neutral', 'score': 0.012808628380298615},\n",
       " {'label': 'sadness', 'score': 0.008756840601563454},\n",
       " {'label': 'surprise', 'score': 0.008597875013947487},\n",
       " {'label': 'disgust', 'score': 0.00843177828937769},\n",
       " {'label': 'joy', 'score': 0.0010455782758072019}]"
      ]
     },
     "execution_count": 14,
     "metadata": {},
     "output_type": "execute_result"
    }
   ],
   "execution_count": 14
  },
  {
   "metadata": {
    "ExecuteTime": {
     "end_time": "2025-03-26T09:49:51.613166Z",
     "start_time": "2025-03-26T09:49:51.609208Z"
    }
   },
   "cell_type": "code",
   "source": "predictions",
   "id": "2bb813df1a7d32a4",
   "outputs": [
    {
     "data": {
      "text/plain": [
       "[[{'label': 'surprise', 'score': 0.7296021580696106},\n",
       "  {'label': 'neutral', 'score': 0.14038625359535217},\n",
       "  {'label': 'fear', 'score': 0.06816215068101883},\n",
       "  {'label': 'joy', 'score': 0.0479423962533474},\n",
       "  {'label': 'anger', 'score': 0.009156353771686554},\n",
       "  {'label': 'disgust', 'score': 0.0026284793857485056},\n",
       "  {'label': 'sadness', 'score': 0.0021221640054136515}],\n",
       " [{'label': 'neutral', 'score': 0.44937190413475037},\n",
       "  {'label': 'disgust', 'score': 0.2735902965068817},\n",
       "  {'label': 'joy', 'score': 0.1090828999876976},\n",
       "  {'label': 'sadness', 'score': 0.09362740814685822},\n",
       "  {'label': 'anger', 'score': 0.04047819972038269},\n",
       "  {'label': 'surprise', 'score': 0.02697022259235382},\n",
       "  {'label': 'fear', 'score': 0.00687906239181757}],\n",
       " [{'label': 'neutral', 'score': 0.6462160348892212},\n",
       "  {'label': 'sadness', 'score': 0.24273332953453064},\n",
       "  {'label': 'disgust', 'score': 0.04342269152402878},\n",
       "  {'label': 'surprise', 'score': 0.028300514444708824},\n",
       "  {'label': 'joy', 'score': 0.014211446046829224},\n",
       "  {'label': 'fear', 'score': 0.014084098860621452},\n",
       "  {'label': 'anger', 'score': 0.011031887494027615}],\n",
       " [{'label': 'fear', 'score': 0.9281686544418335},\n",
       "  {'label': 'anger', 'score': 0.032190579921007156},\n",
       "  {'label': 'neutral', 'score': 0.012808628380298615},\n",
       "  {'label': 'sadness', 'score': 0.008756840601563454},\n",
       "  {'label': 'surprise', 'score': 0.008597875013947487},\n",
       "  {'label': 'disgust', 'score': 0.00843177828937769},\n",
       "  {'label': 'joy', 'score': 0.0010455782758072019}],\n",
       " [{'label': 'sadness', 'score': 0.9671575427055359},\n",
       "  {'label': 'neutral', 'score': 0.015104164369404316},\n",
       "  {'label': 'disgust', 'score': 0.006480589509010315},\n",
       "  {'label': 'fear', 'score': 0.005393995437771082},\n",
       "  {'label': 'surprise', 'score': 0.0022869419772177935},\n",
       "  {'label': 'anger', 'score': 0.0018428867915645242},\n",
       "  {'label': 'joy', 'score': 0.0017338780453428626}],\n",
       " [{'label': 'joy', 'score': 0.9327980279922485},\n",
       "  {'label': 'disgust', 'score': 0.0377170667052269},\n",
       "  {'label': 'neutral', 'score': 0.015891848132014275},\n",
       "  {'label': 'sadness', 'score': 0.006444496568292379},\n",
       "  {'label': 'anger', 'score': 0.005024965386837721},\n",
       "  {'label': 'surprise', 'score': 0.001581206452101469},\n",
       "  {'label': 'fear', 'score': 0.0005423066904768348}],\n",
       " [{'label': 'joy', 'score': 0.6528695225715637},\n",
       "  {'label': 'neutral', 'score': 0.25427553057670593},\n",
       "  {'label': 'surprise', 'score': 0.06808329373598099},\n",
       "  {'label': 'sadness', 'score': 0.009909017942845821},\n",
       "  {'label': 'disgust', 'score': 0.006512219086289406},\n",
       "  {'label': 'anger', 'score': 0.0048213223926723},\n",
       "  {'label': 'fear', 'score': 0.0035290238447487354}],\n",
       " [{'label': 'neutral', 'score': 0.5494773387908936},\n",
       "  {'label': 'sadness', 'score': 0.11169011145830154},\n",
       "  {'label': 'disgust', 'score': 0.1040065661072731},\n",
       "  {'label': 'surprise', 'score': 0.07876542955636978},\n",
       "  {'label': 'anger', 'score': 0.06413352489471436},\n",
       "  {'label': 'fear', 'score': 0.05136272683739662},\n",
       "  {'label': 'joy', 'score': 0.040564339607954025}]]"
      ]
     },
     "execution_count": 15,
     "metadata": {},
     "output_type": "execute_result"
    }
   ],
   "execution_count": 15
  },
  {
   "metadata": {
    "ExecuteTime": {
     "end_time": "2025-03-26T09:50:33.550223Z",
     "start_time": "2025-03-26T09:50:33.547246Z"
    }
   },
   "cell_type": "code",
   "source": "sorted(predictions[0], key=lambda x: x['score'])",
   "id": "83458b5653ca6364",
   "outputs": [
    {
     "data": {
      "text/plain": [
       "[{'label': 'sadness', 'score': 0.0021221640054136515},\n",
       " {'label': 'disgust', 'score': 0.0026284793857485056},\n",
       " {'label': 'anger', 'score': 0.009156353771686554},\n",
       " {'label': 'joy', 'score': 0.0479423962533474},\n",
       " {'label': 'fear', 'score': 0.06816215068101883},\n",
       " {'label': 'neutral', 'score': 0.14038625359535217},\n",
       " {'label': 'surprise', 'score': 0.7296021580696106}]"
      ]
     },
     "execution_count": 16,
     "metadata": {},
     "output_type": "execute_result"
    }
   ],
   "execution_count": 16
  },
  {
   "metadata": {
    "ExecuteTime": {
     "end_time": "2025-03-26T09:56:15.930915Z",
     "start_time": "2025-03-26T09:56:15.926419Z"
    }
   },
   "cell_type": "code",
   "source": [
    "import numpy as np\n",
    "\n",
    "emotion_labels = ['anger', 'disgust', 'fear', 'joy', 'sadness', 'surprise']\n",
    "isbn = []\n",
    "emotion_scores = {label: [] for label in emotion_labels}\n",
    "\n",
    "def calculate_max_emotion_score(predictions):\n",
    "    per_emotion_scrore = {label: [] for label in emotion_labels}\n",
    "    for prediction in predictions:\n",
    "        sorted_predictions = sorted(prediction, key=lambda x: x['score'])\n",
    "        for index, label in enumerate(emotion_labels):\n",
    "            per_emotion_scrore[label].append(sorted_predictions[index]['score'])\n",
    "    return {label: np.max(scores) for label, scores in per_emotion_scrore.items()}"
   ],
   "id": "794b94ee04470269",
   "outputs": [],
   "execution_count": 21
  },
  {
   "metadata": {
    "ExecuteTime": {
     "end_time": "2025-03-26T09:56:17.343854Z",
     "start_time": "2025-03-26T09:56:16.723019Z"
    }
   },
   "cell_type": "code",
   "source": [
    "for i in range(10):\n",
    "    isbn.append(books['isbn13'][i])\n",
    "    sentenses = books.description[i].split(\".\")\n",
    "    predictions = classifier(sentenses)\n",
    "    max_scores = calculate_max_emotion_score(predictions)\n",
    "    for label in emotion_labels:\n",
    "        emotion_scores[label].append(max_scores[label])"
   ],
   "id": "cdc7628d4dfe55e2",
   "outputs": [],
   "execution_count": 22
  },
  {
   "metadata": {
    "ExecuteTime": {
     "end_time": "2025-03-26T09:56:18.072151Z",
     "start_time": "2025-03-26T09:56:18.068646Z"
    }
   },
   "cell_type": "code",
   "source": "emotion_scores",
   "id": "5a4ab7024d19b0f0",
   "outputs": [
    {
     "data": {
      "text/plain": [
       "{'anger': [0.040564339607954025,\n",
       "  0.040564339607954025,\n",
       "  0.040564339607954025,\n",
       "  0.040564339607954025,\n",
       "  0.040564339607954025,\n",
       "  0.040564339607954025,\n",
       "  0.040564339607954025,\n",
       "  0.040564339607954025,\n",
       "  0.040564339607954025,\n",
       "  0.040564339607954025],\n",
       " 'disgust': [0.05136272683739662,\n",
       "  0.05136272683739662,\n",
       "  0.05136272683739662,\n",
       "  0.05136272683739662,\n",
       "  0.05136272683739662,\n",
       "  0.05136272683739662,\n",
       "  0.05136272683739662,\n",
       "  0.05136272683739662,\n",
       "  0.05136272683739662,\n",
       "  0.05136272683739662],\n",
       " 'fear': [0.06413352489471436,\n",
       "  0.07713013142347336,\n",
       "  0.06413352489471436,\n",
       "  0.06413352489471436,\n",
       "  0.06413352489471436,\n",
       "  0.06413352489471436,\n",
       "  0.06413352489471436,\n",
       "  0.07182517647743225,\n",
       "  0.06413352489471436,\n",
       "  0.06413352489471436],\n",
       " 'joy': [0.09362740814685822,\n",
       "  0.14334677159786224,\n",
       "  0.07876542955636978,\n",
       "  0.07967240363359451,\n",
       "  0.10239041596651077,\n",
       "  0.08459091931581497,\n",
       "  0.07876542955636978,\n",
       "  0.1356150507926941,\n",
       "  0.07876542955636978,\n",
       "  0.07876542955636978],\n",
       " 'sadness': [0.1090828999876976,\n",
       "  0.1954355239868164,\n",
       "  0.1040065661072731,\n",
       "  0.15072239935398102,\n",
       "  0.11962246894836426,\n",
       "  0.18529106676578522,\n",
       "  0.23448799550533295,\n",
       "  0.2491174191236496,\n",
       "  0.16445781290531158,\n",
       "  0.23194760084152222],\n",
       " 'surprise': [0.2735902965068817,\n",
       "  0.3193495571613312,\n",
       "  0.11169011145830154,\n",
       "  0.35148337483406067,\n",
       "  0.27190276980400085,\n",
       "  0.385356605052948,\n",
       "  0.29216665029525757,\n",
       "  0.2794812321662903,\n",
       "  0.3680681884288788,\n",
       "  0.3618948459625244]}"
      ]
     },
     "execution_count": 23,
     "metadata": {},
     "output_type": "execute_result"
    }
   ],
   "execution_count": 23
  },
  {
   "metadata": {
    "ExecuteTime": {
     "end_time": "2025-03-26T10:03:01.147847Z",
     "start_time": "2025-03-26T09:58:31.604289Z"
    }
   },
   "cell_type": "code",
   "source": [
    "from tqdm import tqdm\n",
    "\n",
    "emotion_labels = ['anger', 'disgust', 'fear', 'joy', 'sadness', 'surprise']\n",
    "isbn = []\n",
    "emotion_scores = {label: [] for label in emotion_labels}\n",
    "\n",
    "for i in tqdm(range(len(books))):\n",
    "    isbn.append(books['isbn13'][i])\n",
    "    sentenses = books.description[i].split(\".\")\n",
    "    predictions = classifier(sentenses)\n",
    "    max_scores = calculate_max_emotion_score(predictions)\n",
    "    for label in emotion_labels:\n",
    "        emotion_scores[label].append(max_scores[label])"
   ],
   "id": "32f0f85b2cf4e64b",
   "outputs": [
    {
     "name": "stderr",
     "output_type": "stream",
     "text": [
      "100%|██████████| 5195/5195 [04:29<00:00, 19.27it/s]\n"
     ]
    }
   ],
   "execution_count": 24
  },
  {
   "metadata": {
    "ExecuteTime": {
     "end_time": "2025-03-26T11:13:09.678842Z",
     "start_time": "2025-03-26T11:13:09.662668Z"
    }
   },
   "cell_type": "code",
   "source": [
    "emotions_df = pd.DataFrame(emotion_scores)\n",
    "emotions_df['isbn13'] = isbn"
   ],
   "id": "c8d47e27c87be07e",
   "outputs": [],
   "execution_count": 25
  },
  {
   "metadata": {
    "ExecuteTime": {
     "end_time": "2025-03-26T11:13:15.236220Z",
     "start_time": "2025-03-26T11:13:15.227547Z"
    }
   },
   "cell_type": "code",
   "source": "emotions_df.head()",
   "id": "ef734c809503ffe1",
   "outputs": [
    {
     "data": {
      "text/plain": [
       "      anger   disgust      fear       joy   sadness  surprise         isbn13\n",
       "0  0.040564  0.051363  0.064134  0.093627  0.109083  0.273590  9780002005883\n",
       "1  0.040564  0.051363  0.077130  0.143347  0.195436  0.319350  9780002261982\n",
       "2  0.040564  0.051363  0.064134  0.078765  0.104007  0.111690  9780006178736\n",
       "3  0.040564  0.051363  0.064134  0.079672  0.150722  0.351483  9780006280897\n",
       "4  0.040564  0.051363  0.064134  0.102390  0.119622  0.271903  9780006380832"
      ],
      "text/html": [
       "<div>\n",
       "<style scoped>\n",
       "    .dataframe tbody tr th:only-of-type {\n",
       "        vertical-align: middle;\n",
       "    }\n",
       "\n",
       "    .dataframe tbody tr th {\n",
       "        vertical-align: top;\n",
       "    }\n",
       "\n",
       "    .dataframe thead th {\n",
       "        text-align: right;\n",
       "    }\n",
       "</style>\n",
       "<table border=\"1\" class=\"dataframe\">\n",
       "  <thead>\n",
       "    <tr style=\"text-align: right;\">\n",
       "      <th></th>\n",
       "      <th>anger</th>\n",
       "      <th>disgust</th>\n",
       "      <th>fear</th>\n",
       "      <th>joy</th>\n",
       "      <th>sadness</th>\n",
       "      <th>surprise</th>\n",
       "      <th>isbn13</th>\n",
       "    </tr>\n",
       "  </thead>\n",
       "  <tbody>\n",
       "    <tr>\n",
       "      <th>0</th>\n",
       "      <td>0.040564</td>\n",
       "      <td>0.051363</td>\n",
       "      <td>0.064134</td>\n",
       "      <td>0.093627</td>\n",
       "      <td>0.109083</td>\n",
       "      <td>0.273590</td>\n",
       "      <td>9780002005883</td>\n",
       "    </tr>\n",
       "    <tr>\n",
       "      <th>1</th>\n",
       "      <td>0.040564</td>\n",
       "      <td>0.051363</td>\n",
       "      <td>0.077130</td>\n",
       "      <td>0.143347</td>\n",
       "      <td>0.195436</td>\n",
       "      <td>0.319350</td>\n",
       "      <td>9780002261982</td>\n",
       "    </tr>\n",
       "    <tr>\n",
       "      <th>2</th>\n",
       "      <td>0.040564</td>\n",
       "      <td>0.051363</td>\n",
       "      <td>0.064134</td>\n",
       "      <td>0.078765</td>\n",
       "      <td>0.104007</td>\n",
       "      <td>0.111690</td>\n",
       "      <td>9780006178736</td>\n",
       "    </tr>\n",
       "    <tr>\n",
       "      <th>3</th>\n",
       "      <td>0.040564</td>\n",
       "      <td>0.051363</td>\n",
       "      <td>0.064134</td>\n",
       "      <td>0.079672</td>\n",
       "      <td>0.150722</td>\n",
       "      <td>0.351483</td>\n",
       "      <td>9780006280897</td>\n",
       "    </tr>\n",
       "    <tr>\n",
       "      <th>4</th>\n",
       "      <td>0.040564</td>\n",
       "      <td>0.051363</td>\n",
       "      <td>0.064134</td>\n",
       "      <td>0.102390</td>\n",
       "      <td>0.119622</td>\n",
       "      <td>0.271903</td>\n",
       "      <td>9780006380832</td>\n",
       "    </tr>\n",
       "  </tbody>\n",
       "</table>\n",
       "</div>"
      ]
     },
     "execution_count": 26,
     "metadata": {},
     "output_type": "execute_result"
    }
   ],
   "execution_count": 26
  },
  {
   "metadata": {
    "ExecuteTime": {
     "end_time": "2025-03-26T11:13:43.919128Z",
     "start_time": "2025-03-26T11:13:43.912991Z"
    }
   },
   "cell_type": "code",
   "source": "books = pd.merge(books, emotions_df, on='isbn13')",
   "id": "c2dcbeb344354195",
   "outputs": [],
   "execution_count": 27
  },
  {
   "metadata": {
    "ExecuteTime": {
     "end_time": "2025-03-26T11:13:46.639507Z",
     "start_time": "2025-03-26T11:13:46.631288Z"
    }
   },
   "cell_type": "code",
   "source": "books",
   "id": "f63102fc5fbaa6c",
   "outputs": [
    {
     "data": {
      "text/plain": [
       "             isbn13      isbn10  \\\n",
       "0     9780002005883  0002005883   \n",
       "1     9780002261982  0002261987   \n",
       "2     9780006178736  0006178731   \n",
       "3     9780006280897  0006280897   \n",
       "4     9780006380832  0006380832   \n",
       "...             ...         ...   \n",
       "5190  9788172235222  8172235224   \n",
       "5191  9788173031014  8173031010   \n",
       "5192  9788179921623  817992162X   \n",
       "5193  9788185300535  8185300534   \n",
       "5194  9789027712059  9027712050   \n",
       "\n",
       "                                                  title  \\\n",
       "0                                                Gilead   \n",
       "1                                          Spider's Web   \n",
       "2                                        Rage of angels   \n",
       "3                                        The Four Loves   \n",
       "4                                Empires of the Monsoon   \n",
       "...                                                 ...   \n",
       "5190                                  Mistaken Identity   \n",
       "5191                                Journey to the East   \n",
       "5192  The Monk Who Sold His Ferrari: A Fable About F...   \n",
       "5193                                          I Am that   \n",
       "5194                           The Berlin Phenomenology   \n",
       "\n",
       "                                           authors  \\\n",
       "0                               Marilynne Robinson   \n",
       "1                  Charles Osborne;Agatha Christie   \n",
       "2                                   Sidney Sheldon   \n",
       "3                              Clive Staples Lewis   \n",
       "4                                     Richard Hall   \n",
       "...                                            ...   \n",
       "5190                              Nayantara Sahgal   \n",
       "5191                                 Hermann Hesse   \n",
       "5192                                  Robin Sharma   \n",
       "5193  Sri Nisargadatta Maharaj;Sudhakar S. Dikshit   \n",
       "5194                 Georg Wilhelm Friedrich Hegel   \n",
       "\n",
       "                         categories  \\\n",
       "0                           Fiction   \n",
       "1     Detective and mystery stories   \n",
       "2                           Fiction   \n",
       "3                    Christian life   \n",
       "4                      Africa, East   \n",
       "...                             ...   \n",
       "5190        Indic fiction (English)   \n",
       "5191              Adventure stories   \n",
       "5192               Health & Fitness   \n",
       "5193                     Philosophy   \n",
       "5194                        History   \n",
       "\n",
       "                                              thumbnail  \\\n",
       "0     http://books.google.com/books/content?id=KQZCP...   \n",
       "1     http://books.google.com/books/content?id=gA5GP...   \n",
       "2     http://books.google.com/books/content?id=FKo2T...   \n",
       "3     http://books.google.com/books/content?id=XhQ5X...   \n",
       "4     http://books.google.com/books/content?id=MuPEQ...   \n",
       "...                                                 ...   \n",
       "5190  http://books.google.com/books/content?id=q-tKP...   \n",
       "5191  http://books.google.com/books/content?id=rq6JP...   \n",
       "5192  http://books.google.com/books/content?id=c_7mf...   \n",
       "5193  http://books.google.com/books/content?id=Fv_JP...   \n",
       "5194  http://books.google.com/books/content?id=Vy7Sk...   \n",
       "\n",
       "                                            description  published_year  \\\n",
       "0     A NOVEL THAT READERS and critics have been eag...          2004.0   \n",
       "1     A new 'Christie for Christmas' -- a full-lengt...          2000.0   \n",
       "2     A memorable, mesmerizing heroine Jennifer -- b...          1993.0   \n",
       "3     Lewis' work on the nature of love divides love...          2002.0   \n",
       "4     Until Vasco da Gama discovered the sea-route t...          1998.0   \n",
       "...                                                 ...             ...   \n",
       "5190  On A Train Journey Home To North India After L...          2003.0   \n",
       "5191  This book tells the tale of a man who goes on ...          2002.0   \n",
       "5192  Wisdom to Create a Life of Passion, Purpose, a...          2003.0   \n",
       "5193  This collection of the timeless teachings of o...          1999.0   \n",
       "5194  Since the three volume edition ofHegel's Philo...          1981.0   \n",
       "\n",
       "      average_rating  num_pages  ratings_count  \\\n",
       "0               3.85      247.0          361.0   \n",
       "1               3.83      241.0         5164.0   \n",
       "2               3.93      512.0        29532.0   \n",
       "3               4.15      170.0        33684.0   \n",
       "4               4.41      608.0           65.0   \n",
       "...              ...        ...            ...   \n",
       "5190            2.93      324.0            0.0   \n",
       "5191            3.70      175.0           24.0   \n",
       "5192            3.82      198.0         1568.0   \n",
       "5193            4.51      531.0          104.0   \n",
       "5194            0.00      210.0            0.0   \n",
       "\n",
       "                                     title_and_subtitle  \\\n",
       "0                                                Gilead   \n",
       "1                                 Spider's Web: A Novel   \n",
       "2                                        Rage of angels   \n",
       "3                                        The Four Loves   \n",
       "4     Empires of the Monsoon: A History of the India...   \n",
       "...                                                 ...   \n",
       "5190                                  Mistaken Identity   \n",
       "5191                                Journey to the East   \n",
       "5192  The Monk Who Sold His Ferrari: A Fable About F...   \n",
       "5193     I Am that: Talks with Sri Nisargadatta Maharaj   \n",
       "5194                           The Berlin Phenomenology   \n",
       "\n",
       "                                     tagged_description simple_categories  \\\n",
       "0     9780002005883 A NOVEL THAT READERS and critics...           Fiction   \n",
       "1     9780002261982 A new 'Christie for Christmas' -...           Fiction   \n",
       "2     9780006178736 A memorable, mesmerizing heroine...           Fiction   \n",
       "3     9780006280897 Lewis' work on the nature of lov...        Nonfiction   \n",
       "4     9780006380832 Until Vasco da Gama discovered t...        Nonfiction   \n",
       "...                                                 ...               ...   \n",
       "5190  9788172235222 On A Train Journey Home To North...           Fiction   \n",
       "5191  9788173031014 This book tells the tale of a ma...        Nonfiction   \n",
       "5192  9788179921623 Wisdom to Create a Life of Passi...           Fiction   \n",
       "5193  9788185300535 This collection of the timeless ...        Nonfiction   \n",
       "5194  9789027712059 Since the three volume edition o...        Nonfiction   \n",
       "\n",
       "         anger   disgust      fear       joy   sadness  surprise  \n",
       "0     0.040564  0.051363  0.064134  0.093627  0.109083  0.273590  \n",
       "1     0.040564  0.051363  0.077130  0.143347  0.195436  0.319350  \n",
       "2     0.040564  0.051363  0.064134  0.078765  0.104007  0.111690  \n",
       "3     0.040564  0.051363  0.064134  0.079672  0.150722  0.351483  \n",
       "4     0.040564  0.051363  0.064134  0.102390  0.119622  0.271903  \n",
       "...        ...       ...       ...       ...       ...       ...  \n",
       "5190  0.009569  0.030656  0.043363  0.127783  0.148208  0.305737  \n",
       "5191  0.040564  0.051363  0.064134  0.078765  0.227765  0.338892  \n",
       "5192  0.009055  0.009929  0.057625  0.066685  0.141733  0.339217  \n",
       "5193  0.040564  0.051363  0.064134  0.078765  0.214132  0.368110  \n",
       "5194  0.040564  0.051363  0.064134  0.078765  0.104007  0.402250  \n",
       "\n",
       "[5195 rows x 20 columns]"
      ],
      "text/html": [
       "<div>\n",
       "<style scoped>\n",
       "    .dataframe tbody tr th:only-of-type {\n",
       "        vertical-align: middle;\n",
       "    }\n",
       "\n",
       "    .dataframe tbody tr th {\n",
       "        vertical-align: top;\n",
       "    }\n",
       "\n",
       "    .dataframe thead th {\n",
       "        text-align: right;\n",
       "    }\n",
       "</style>\n",
       "<table border=\"1\" class=\"dataframe\">\n",
       "  <thead>\n",
       "    <tr style=\"text-align: right;\">\n",
       "      <th></th>\n",
       "      <th>isbn13</th>\n",
       "      <th>isbn10</th>\n",
       "      <th>title</th>\n",
       "      <th>authors</th>\n",
       "      <th>categories</th>\n",
       "      <th>thumbnail</th>\n",
       "      <th>description</th>\n",
       "      <th>published_year</th>\n",
       "      <th>average_rating</th>\n",
       "      <th>num_pages</th>\n",
       "      <th>ratings_count</th>\n",
       "      <th>title_and_subtitle</th>\n",
       "      <th>tagged_description</th>\n",
       "      <th>simple_categories</th>\n",
       "      <th>anger</th>\n",
       "      <th>disgust</th>\n",
       "      <th>fear</th>\n",
       "      <th>joy</th>\n",
       "      <th>sadness</th>\n",
       "      <th>surprise</th>\n",
       "    </tr>\n",
       "  </thead>\n",
       "  <tbody>\n",
       "    <tr>\n",
       "      <th>0</th>\n",
       "      <td>9780002005883</td>\n",
       "      <td>0002005883</td>\n",
       "      <td>Gilead</td>\n",
       "      <td>Marilynne Robinson</td>\n",
       "      <td>Fiction</td>\n",
       "      <td>http://books.google.com/books/content?id=KQZCP...</td>\n",
       "      <td>A NOVEL THAT READERS and critics have been eag...</td>\n",
       "      <td>2004.0</td>\n",
       "      <td>3.85</td>\n",
       "      <td>247.0</td>\n",
       "      <td>361.0</td>\n",
       "      <td>Gilead</td>\n",
       "      <td>9780002005883 A NOVEL THAT READERS and critics...</td>\n",
       "      <td>Fiction</td>\n",
       "      <td>0.040564</td>\n",
       "      <td>0.051363</td>\n",
       "      <td>0.064134</td>\n",
       "      <td>0.093627</td>\n",
       "      <td>0.109083</td>\n",
       "      <td>0.273590</td>\n",
       "    </tr>\n",
       "    <tr>\n",
       "      <th>1</th>\n",
       "      <td>9780002261982</td>\n",
       "      <td>0002261987</td>\n",
       "      <td>Spider's Web</td>\n",
       "      <td>Charles Osborne;Agatha Christie</td>\n",
       "      <td>Detective and mystery stories</td>\n",
       "      <td>http://books.google.com/books/content?id=gA5GP...</td>\n",
       "      <td>A new 'Christie for Christmas' -- a full-lengt...</td>\n",
       "      <td>2000.0</td>\n",
       "      <td>3.83</td>\n",
       "      <td>241.0</td>\n",
       "      <td>5164.0</td>\n",
       "      <td>Spider's Web: A Novel</td>\n",
       "      <td>9780002261982 A new 'Christie for Christmas' -...</td>\n",
       "      <td>Fiction</td>\n",
       "      <td>0.040564</td>\n",
       "      <td>0.051363</td>\n",
       "      <td>0.077130</td>\n",
       "      <td>0.143347</td>\n",
       "      <td>0.195436</td>\n",
       "      <td>0.319350</td>\n",
       "    </tr>\n",
       "    <tr>\n",
       "      <th>2</th>\n",
       "      <td>9780006178736</td>\n",
       "      <td>0006178731</td>\n",
       "      <td>Rage of angels</td>\n",
       "      <td>Sidney Sheldon</td>\n",
       "      <td>Fiction</td>\n",
       "      <td>http://books.google.com/books/content?id=FKo2T...</td>\n",
       "      <td>A memorable, mesmerizing heroine Jennifer -- b...</td>\n",
       "      <td>1993.0</td>\n",
       "      <td>3.93</td>\n",
       "      <td>512.0</td>\n",
       "      <td>29532.0</td>\n",
       "      <td>Rage of angels</td>\n",
       "      <td>9780006178736 A memorable, mesmerizing heroine...</td>\n",
       "      <td>Fiction</td>\n",
       "      <td>0.040564</td>\n",
       "      <td>0.051363</td>\n",
       "      <td>0.064134</td>\n",
       "      <td>0.078765</td>\n",
       "      <td>0.104007</td>\n",
       "      <td>0.111690</td>\n",
       "    </tr>\n",
       "    <tr>\n",
       "      <th>3</th>\n",
       "      <td>9780006280897</td>\n",
       "      <td>0006280897</td>\n",
       "      <td>The Four Loves</td>\n",
       "      <td>Clive Staples Lewis</td>\n",
       "      <td>Christian life</td>\n",
       "      <td>http://books.google.com/books/content?id=XhQ5X...</td>\n",
       "      <td>Lewis' work on the nature of love divides love...</td>\n",
       "      <td>2002.0</td>\n",
       "      <td>4.15</td>\n",
       "      <td>170.0</td>\n",
       "      <td>33684.0</td>\n",
       "      <td>The Four Loves</td>\n",
       "      <td>9780006280897 Lewis' work on the nature of lov...</td>\n",
       "      <td>Nonfiction</td>\n",
       "      <td>0.040564</td>\n",
       "      <td>0.051363</td>\n",
       "      <td>0.064134</td>\n",
       "      <td>0.079672</td>\n",
       "      <td>0.150722</td>\n",
       "      <td>0.351483</td>\n",
       "    </tr>\n",
       "    <tr>\n",
       "      <th>4</th>\n",
       "      <td>9780006380832</td>\n",
       "      <td>0006380832</td>\n",
       "      <td>Empires of the Monsoon</td>\n",
       "      <td>Richard Hall</td>\n",
       "      <td>Africa, East</td>\n",
       "      <td>http://books.google.com/books/content?id=MuPEQ...</td>\n",
       "      <td>Until Vasco da Gama discovered the sea-route t...</td>\n",
       "      <td>1998.0</td>\n",
       "      <td>4.41</td>\n",
       "      <td>608.0</td>\n",
       "      <td>65.0</td>\n",
       "      <td>Empires of the Monsoon: A History of the India...</td>\n",
       "      <td>9780006380832 Until Vasco da Gama discovered t...</td>\n",
       "      <td>Nonfiction</td>\n",
       "      <td>0.040564</td>\n",
       "      <td>0.051363</td>\n",
       "      <td>0.064134</td>\n",
       "      <td>0.102390</td>\n",
       "      <td>0.119622</td>\n",
       "      <td>0.271903</td>\n",
       "    </tr>\n",
       "    <tr>\n",
       "      <th>...</th>\n",
       "      <td>...</td>\n",
       "      <td>...</td>\n",
       "      <td>...</td>\n",
       "      <td>...</td>\n",
       "      <td>...</td>\n",
       "      <td>...</td>\n",
       "      <td>...</td>\n",
       "      <td>...</td>\n",
       "      <td>...</td>\n",
       "      <td>...</td>\n",
       "      <td>...</td>\n",
       "      <td>...</td>\n",
       "      <td>...</td>\n",
       "      <td>...</td>\n",
       "      <td>...</td>\n",
       "      <td>...</td>\n",
       "      <td>...</td>\n",
       "      <td>...</td>\n",
       "      <td>...</td>\n",
       "      <td>...</td>\n",
       "    </tr>\n",
       "    <tr>\n",
       "      <th>5190</th>\n",
       "      <td>9788172235222</td>\n",
       "      <td>8172235224</td>\n",
       "      <td>Mistaken Identity</td>\n",
       "      <td>Nayantara Sahgal</td>\n",
       "      <td>Indic fiction (English)</td>\n",
       "      <td>http://books.google.com/books/content?id=q-tKP...</td>\n",
       "      <td>On A Train Journey Home To North India After L...</td>\n",
       "      <td>2003.0</td>\n",
       "      <td>2.93</td>\n",
       "      <td>324.0</td>\n",
       "      <td>0.0</td>\n",
       "      <td>Mistaken Identity</td>\n",
       "      <td>9788172235222 On A Train Journey Home To North...</td>\n",
       "      <td>Fiction</td>\n",
       "      <td>0.009569</td>\n",
       "      <td>0.030656</td>\n",
       "      <td>0.043363</td>\n",
       "      <td>0.127783</td>\n",
       "      <td>0.148208</td>\n",
       "      <td>0.305737</td>\n",
       "    </tr>\n",
       "    <tr>\n",
       "      <th>5191</th>\n",
       "      <td>9788173031014</td>\n",
       "      <td>8173031010</td>\n",
       "      <td>Journey to the East</td>\n",
       "      <td>Hermann Hesse</td>\n",
       "      <td>Adventure stories</td>\n",
       "      <td>http://books.google.com/books/content?id=rq6JP...</td>\n",
       "      <td>This book tells the tale of a man who goes on ...</td>\n",
       "      <td>2002.0</td>\n",
       "      <td>3.70</td>\n",
       "      <td>175.0</td>\n",
       "      <td>24.0</td>\n",
       "      <td>Journey to the East</td>\n",
       "      <td>9788173031014 This book tells the tale of a ma...</td>\n",
       "      <td>Nonfiction</td>\n",
       "      <td>0.040564</td>\n",
       "      <td>0.051363</td>\n",
       "      <td>0.064134</td>\n",
       "      <td>0.078765</td>\n",
       "      <td>0.227765</td>\n",
       "      <td>0.338892</td>\n",
       "    </tr>\n",
       "    <tr>\n",
       "      <th>5192</th>\n",
       "      <td>9788179921623</td>\n",
       "      <td>817992162X</td>\n",
       "      <td>The Monk Who Sold His Ferrari: A Fable About F...</td>\n",
       "      <td>Robin Sharma</td>\n",
       "      <td>Health &amp; Fitness</td>\n",
       "      <td>http://books.google.com/books/content?id=c_7mf...</td>\n",
       "      <td>Wisdom to Create a Life of Passion, Purpose, a...</td>\n",
       "      <td>2003.0</td>\n",
       "      <td>3.82</td>\n",
       "      <td>198.0</td>\n",
       "      <td>1568.0</td>\n",
       "      <td>The Monk Who Sold His Ferrari: A Fable About F...</td>\n",
       "      <td>9788179921623 Wisdom to Create a Life of Passi...</td>\n",
       "      <td>Fiction</td>\n",
       "      <td>0.009055</td>\n",
       "      <td>0.009929</td>\n",
       "      <td>0.057625</td>\n",
       "      <td>0.066685</td>\n",
       "      <td>0.141733</td>\n",
       "      <td>0.339217</td>\n",
       "    </tr>\n",
       "    <tr>\n",
       "      <th>5193</th>\n",
       "      <td>9788185300535</td>\n",
       "      <td>8185300534</td>\n",
       "      <td>I Am that</td>\n",
       "      <td>Sri Nisargadatta Maharaj;Sudhakar S. Dikshit</td>\n",
       "      <td>Philosophy</td>\n",
       "      <td>http://books.google.com/books/content?id=Fv_JP...</td>\n",
       "      <td>This collection of the timeless teachings of o...</td>\n",
       "      <td>1999.0</td>\n",
       "      <td>4.51</td>\n",
       "      <td>531.0</td>\n",
       "      <td>104.0</td>\n",
       "      <td>I Am that: Talks with Sri Nisargadatta Maharaj</td>\n",
       "      <td>9788185300535 This collection of the timeless ...</td>\n",
       "      <td>Nonfiction</td>\n",
       "      <td>0.040564</td>\n",
       "      <td>0.051363</td>\n",
       "      <td>0.064134</td>\n",
       "      <td>0.078765</td>\n",
       "      <td>0.214132</td>\n",
       "      <td>0.368110</td>\n",
       "    </tr>\n",
       "    <tr>\n",
       "      <th>5194</th>\n",
       "      <td>9789027712059</td>\n",
       "      <td>9027712050</td>\n",
       "      <td>The Berlin Phenomenology</td>\n",
       "      <td>Georg Wilhelm Friedrich Hegel</td>\n",
       "      <td>History</td>\n",
       "      <td>http://books.google.com/books/content?id=Vy7Sk...</td>\n",
       "      <td>Since the three volume edition ofHegel's Philo...</td>\n",
       "      <td>1981.0</td>\n",
       "      <td>0.00</td>\n",
       "      <td>210.0</td>\n",
       "      <td>0.0</td>\n",
       "      <td>The Berlin Phenomenology</td>\n",
       "      <td>9789027712059 Since the three volume edition o...</td>\n",
       "      <td>Nonfiction</td>\n",
       "      <td>0.040564</td>\n",
       "      <td>0.051363</td>\n",
       "      <td>0.064134</td>\n",
       "      <td>0.078765</td>\n",
       "      <td>0.104007</td>\n",
       "      <td>0.402250</td>\n",
       "    </tr>\n",
       "  </tbody>\n",
       "</table>\n",
       "<p>5195 rows × 20 columns</p>\n",
       "</div>"
      ]
     },
     "execution_count": 28,
     "metadata": {},
     "output_type": "execute_result"
    }
   ],
   "execution_count": 28
  },
  {
   "metadata": {
    "ExecuteTime": {
     "end_time": "2025-03-26T11:15:00.987721Z",
     "start_time": "2025-03-26T11:15:00.885070Z"
    }
   },
   "cell_type": "code",
   "source": "books.to_csv('books_with_emotions.csv', index=False)",
   "id": "78fb29b17e6dca70",
   "outputs": [],
   "execution_count": 29
  },
  {
   "metadata": {},
   "cell_type": "code",
   "outputs": [],
   "execution_count": null,
   "source": "",
   "id": "ba9957c559e89c2b"
  }
 ],
 "metadata": {
  "kernelspec": {
   "display_name": "Python 3",
   "language": "python",
   "name": "python3"
  },
  "language_info": {
   "codemirror_mode": {
    "name": "ipython",
    "version": 2
   },
   "file_extension": ".py",
   "mimetype": "text/x-python",
   "name": "python",
   "nbconvert_exporter": "python",
   "pygments_lexer": "ipython2",
   "version": "2.7.6"
  }
 },
 "nbformat": 4,
 "nbformat_minor": 5
}
